{
 "cells": [
  {
   "cell_type": "markdown",
   "metadata": {},
   "source": [
    "# Barrel of Oil vs Share of Exxon Mobile Stock Problem\n",
    "\n",
    "## The question at hand:\n",
    "\n",
    "**Doses the barrel of oil do a good job at predicting the share of Exxon Mobile stock?**\n",
    "\n",
    "\n",
    "To answer this questions we're goint to use a Linear Regression Model(LRM), becouse of this reasons: \n",
    "1. We want to no the relationship between the two varaibles. \n",
    "2. We want to no the correlation between the varaibles (r2).\n",
    "3. It will be a useful to have an equation to make prediction in the future. \n",
    "\n",
    "The equation of the LRM is:\n",
    "\n",
    "$ y = \\beta_0 + \\beta_1x $\n",
    "\n",
    "$y = \\beta$"
   ]
  },
  {
   "cell_type": "code",
   "execution_count": null,
   "metadata": {},
   "outputs": [],
   "source": []
  }
 ],
 "metadata": {
  "kernelspec": {
   "display_name": "Python 3",
   "language": "python",
   "name": "python3"
  },
  "language_info": {
   "codemirror_mode": {
    "name": "ipython",
    "version": 3
   },
   "file_extension": ".py",
   "mimetype": "text/x-python",
   "name": "python",
   "nbconvert_exporter": "python",
   "pygments_lexer": "ipython3",
   "version": "3.8.2"
  }
 },
 "nbformat": 4,
 "nbformat_minor": 4
}
