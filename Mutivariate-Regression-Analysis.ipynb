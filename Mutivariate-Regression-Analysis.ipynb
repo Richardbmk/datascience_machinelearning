{
 "cells": [
  {
   "cell_type": "markdown",
   "metadata": {},
   "source": [
    "# Multivariate Regression Analysis"
   ]
  },
  {
   "cell_type": "markdown",
   "metadata": {},
   "source": [
    "A Multivariate Regression is similar to a Simple Linear Regression, the diference is that in a Linear regression we try to model the relationship between two variables (the independent variable and the dependent variable) while in a Multiple Linear Regression we want to model the relationship between multiple explanatory variable with a single dependent variable.\n",
    "\n",
    "To Apply this concept in depth we are going to Analyse South Korea's GPD growth.\n",
    "\n",
    "The question at hand is to predict what the GDP growth rate will be in any year, giben a few explanatory variables that we will difine below. \n",
    "\n",
    "**This project is for learning porpouse only. You can check the orinal project and the dataset \n",
    "[here](https://github.com/areed1192/sigma_coding_youtube/tree/master/python/python-data-science/machine-learning/simple-linear-regression).**"
   ]
  },
  {
   "cell_type": "code",
   "execution_count": null,
   "metadata": {},
   "outputs": [],
   "source": []
  }
 ],
 "metadata": {
  "kernelspec": {
   "display_name": "Python 3",
   "language": "python",
   "name": "python3"
  },
  "language_info": {
   "codemirror_mode": {
    "name": "ipython",
    "version": 3
   },
   "file_extension": ".py",
   "mimetype": "text/x-python",
   "name": "python",
   "nbconvert_exporter": "python",
   "pygments_lexer": "ipython3",
   "version": "3.8.2"
  }
 },
 "nbformat": 4,
 "nbformat_minor": 4
}
